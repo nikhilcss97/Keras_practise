{
  "nbformat": 4,
  "nbformat_minor": 0,
  "metadata": {
    "colab": {
      "name": "movie",
      "version": "0.3.2",
      "provenance": [],
      "collapsed_sections": [],
      "include_colab_link": true
    },
    "kernelspec": {
      "name": "python3",
      "display_name": "Python 3"
    },
    "accelerator": "GPU"
  },
  "cells": [
    {
      "cell_type": "markdown",
      "metadata": {
        "id": "view-in-github",
        "colab_type": "text"
      },
      "source": [
        "<a href=\"https://colab.research.google.com/github/nikhilcss97/Keras_practise/blob/master/imdb_movie_reviews.ipynb\" target=\"_parent\"><img src=\"https://colab.research.google.com/assets/colab-badge.svg\" alt=\"Open In Colab\"/></a>"
      ]
    },
    {
      "metadata": {
        "id": "TcVfNeFqR_d4",
        "colab_type": "code",
        "colab": {}
      },
      "cell_type": "code",
      "source": [
        "import numpy as np\n",
        "from keras.datasets import imdb\n",
        "from keras.models import Sequential\n",
        "from keras.layers import Dense\n",
        "from keras.layers import LSTM\n",
        "from keras.layers.embeddings import Embedding\n",
        "from keras.preprocessing import sequence\n",
        "import pandas as pd\n",
        "import matplotlib.pyplot as plt\n",
        "import seaborn as sns\n",
        "\n",
        "np.random.seed(7)"
      ],
      "execution_count": 0,
      "outputs": []
    },
    {
      "metadata": {
        "id": "g9HP4exXTXZS",
        "colab_type": "code",
        "colab": {}
      },
      "cell_type": "code",
      "source": [
        "class Imdb:\n",
        "  \n",
        "  def __init__(self, top_words, max_review_length, embedding_dims):\n",
        "    self.top_words= top_words\n",
        "    self.max_review_length= max_review_length\n",
        "    self.embedding_dims= embedding_dims\n",
        "    \n",
        "  def load_data(self):\n",
        "    \"\"\"\n",
        "    Load the data from the aws instance\n",
        "    \"\"\"\n",
        "    \n",
        "    (x_train, y_train), (x_test, y_test) = imdb.load_data(num_words= self.top_words)\n",
        "    return (x_train, y_train), (x_test, y_test)\n",
        "  \n",
        "  def padding(self, x_train, x_test):\n",
        "    \"\"\"\n",
        "    Clip and pad the reviews to a certain length. Shorter reviews will be padded with 0s\n",
        "    \"\"\"\n",
        "    \n",
        "    x_train= sequence.pad_sequences(x_train, maxlen= self.max_review_length)\n",
        "    x_test= sequence.pad_sequences(x_test, maxlen= self.max_review_length)\n",
        "    return (x_train, x_test)\n",
        "      \n",
        "  def model(self):\n",
        "    \"\"\"\n",
        "    Builds the model\n",
        "    \"\"\"\n",
        "    model= Sequential()\n",
        "    model.add(Embedding(self.top_words, self.embedding_dims, input_length= self.max_review_length))\n",
        "    model.add(LSTM(50))\n",
        "    model.add(Dense(1, activation= 'sigmoid'))\n",
        "    model.compile(loss='binary_crossentropy', optimizer='adam', metrics=['accuracy'])\n",
        "    return model\n",
        "    \n",
        "  def train_model(self, model):\n",
        "    \"\"\"\n",
        "    Training the model\n",
        "    \n",
        "    Returns: trained model\n",
        "    \"\"\"\n",
        "    model.compile(loss='binary_crossentropy', optimizer='adam', metrics=['accuracy'])\n",
        "    model.fit(x_train, y_train, validation_data=(x_test, y_test), epochs=3, batch_size=1000)\n",
        "    return model\n",
        "   \n",
        "  def test_model(self, model):\n",
        "    \"\"\"\n",
        "    Test the trained model on the test data\n",
        "    \"\"\"\n",
        "    scores = model.evaluate(x_test, y_test, verbose=0)\n",
        "    print(\"Accuracy: %.2f%%\" % (scores[1]*100))    "
      ],
      "execution_count": 0,
      "outputs": []
    },
    {
      "metadata": {
        "id": "PNg_gk4ATXgt",
        "colab_type": "code",
        "colab": {}
      },
      "cell_type": "code",
      "source": [
        "obj= Imdb(5000, 500, 100)\n",
        "(x_train, y_train), (x_test, y_test)= obj.load_data()\n",
        "(x_train, x_test)= obj.padding(x_train, x_test)"
      ],
      "execution_count": 0,
      "outputs": []
    },
    {
      "metadata": {
        "id": "9PM2F4FjGHkd",
        "colab_type": "code",
        "colab": {
          "base_uri": "https://localhost:8080/",
          "height": 139
        },
        "outputId": "10eb64a0-2977-4326-9192-738b473bbb61"
      },
      "cell_type": "code",
      "source": [
        "model= obj.model()\n",
        "model= obj.train_model(model)"
      ],
      "execution_count": 23,
      "outputs": [
        {
          "output_type": "stream",
          "text": [
            "Train on 25000 samples, validate on 25000 samples\n",
            "Epoch 1/3\n",
            "25000/25000 [==============================] - 43s 2ms/step - loss: 0.6887 - acc: 0.6268 - val_loss: 0.6416 - val_acc: 0.6726\n",
            "Epoch 2/3\n",
            "25000/25000 [==============================] - 42s 2ms/step - loss: 0.6281 - acc: 0.6897 - val_loss: 0.6100 - val_acc: 0.7085\n",
            "Epoch 3/3\n",
            "25000/25000 [==============================] - 42s 2ms/step - loss: 0.5546 - acc: 0.7574 - val_loss: 0.5118 - val_acc: 0.7565\n"
          ],
          "name": "stdout"
        }
      ]
    },
    {
      "metadata": {
        "id": "Lv0lrmB1Uvyl",
        "colab_type": "code",
        "colab": {
          "base_uri": "https://localhost:8080/",
          "height": 34
        },
        "outputId": "568482fd-2852-449a-e37e-66a4ff2c947a"
      },
      "cell_type": "code",
      "source": [
        "obj.test_model(model)"
      ],
      "execution_count": 25,
      "outputs": [
        {
          "output_type": "stream",
          "text": [
            "Accuracy: 75.65%\n"
          ],
          "name": "stdout"
        }
      ]
    },
    {
      "metadata": {
        "id": "s8pQ6GuinP49",
        "colab_type": "text"
      },
      "cell_type": "markdown",
      "source": [
        "___"
      ]
    },
    {
      "metadata": {
        "id": "TLUh1zMckp7B",
        "colab_type": "text"
      },
      "cell_type": "markdown",
      "source": [
        "EDA"
      ]
    },
    {
      "metadata": {
        "id": "XPXbj6O4UTuL",
        "colab_type": "code",
        "colab": {}
      },
      "cell_type": "code",
      "source": [
        "length_vector= []\n",
        "for i in range(len(x_train)):\n",
        "  length_vector.append(len(x_train[i]))"
      ],
      "execution_count": 0,
      "outputs": []
    },
    {
      "metadata": {
        "id": "634166jxZN0n",
        "colab_type": "code",
        "outputId": "865e4dcb-1334-4214-e0a8-5b0266becabb",
        "colab": {
          "base_uri": "https://localhost:8080/",
          "height": 376
        }
      },
      "cell_type": "code",
      "source": [
        "n, bins, patches = plt.hist(length_vector, bins= 1000, density=True, facecolor='g')\n",
        "\n",
        "plt.xlabel('Review Lengths')\n",
        "plt.ylabel('Frequency')\n",
        "plt.title('Histogram review lengths')\n",
        "plt.grid(True)\n",
        "plt.show()"
      ],
      "execution_count": 0,
      "outputs": [
        {
          "output_type": "display_data",
          "data": {
            "image/png": "[encoded data removed]",
            "text/plain": [
              "<Figure size 576x396 with 1 Axes>"
            ]
          },
          "metadata": {
            "tags": []
          }
        }
      ]
    },
    {
      "metadata": {
        "id": "n2ajPqe9hNnC",
        "colab_type": "code",
        "outputId": "96047624-37ef-4fec-eb3a-0d238db53421",
        "colab": {
          "base_uri": "https://localhost:8080/",
          "height": 416
        }
      },
      "cell_type": "code",
      "source": [
        "sns.distplot(length_vector, bins= 1000)"
      ],
      "execution_count": 0,
      "outputs": [
        {
          "output_type": "stream",
          "text": [
            "/usr/local/lib/python3.6/dist-packages/matplotlib/axes/_axes.py:6521: MatplotlibDeprecationWarning: \n",
            "The 'normed' kwarg was deprecated in Matplotlib 2.1 and will be removed in 3.1. Use 'density' instead.\n",
            "  alternative=\"'density'\", removal=\"3.1\")\n"
          ],
          "name": "stderr"
        },
        {
          "output_type": "execute_result",
          "data": {
            "text/plain": [
              "<matplotlib.axes._subplots.AxesSubplot at 0x7f6a91ab62e8>"
            ]
          },
          "metadata": {
            "tags": []
          },
          "execution_count": 34
        },
        {
          "output_type": "display_data",
          "data": {
            "image/png": "[encoded data removed]",
            "text/plain": [
              "<Figure size 576x396 with 1 Axes>"
            ]
          },
          "metadata": {
            "tags": []
          }
        }
      ]
    },
    {
      "metadata": {
        "id": "lYLj2CkZnLBx",
        "colab_type": "text"
      },
      "cell_type": "markdown",
      "source": [
        "___"
      ]
    },
    {
      "metadata": {
        "id": "rKHbh54snNt7",
        "colab_type": "text"
      },
      "cell_type": "markdown",
      "source": [
        "___"
      ]
    }
  ]
}