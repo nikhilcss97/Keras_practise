{
  "nbformat": 4,
  "nbformat_minor": 0,
  "metadata": {
    "colab": {
      "name": "MNIST.ipynb",
      "version": "0.3.2",
      "provenance": [],
      "collapsed_sections": [],
      "include_colab_link": true
    },
    "kernelspec": {
      "name": "python3",
      "display_name": "Python 3"
    },
    "accelerator": "GPU"
  },
  "cells": [
    {
      "cell_type": "markdown",
      "metadata": {
        "id": "view-in-github",
        "colab_type": "text"
      },
      "source": [
        "<a href=\"https://colab.research.google.com/github/nikhilcss97/Keras_practise/blob/master/MNIST.ipynb\" target=\"_parent\"><img src=\"https://colab.research.google.com/assets/colab-badge.svg\" alt=\"Open In Colab\"/></a>"
      ]
    },
    {
      "metadata": {
        "id": "1-7Xweut22F2",
        "colab_type": "code",
        "colab": {
          "base_uri": "https://localhost:8080/",
          "height": 34
        },
        "outputId": "82d153ae-3672-4114-bbb7-14e12ff7e536"
      },
      "cell_type": "code",
      "source": [
        "import keras\n",
        "from keras.datasets import mnist\n",
        "from keras.preprocessing.image import ImageDataGenerator\n",
        "\n"
      ],
      "execution_count": 1,
      "outputs": [
        {
          "output_type": "stream",
          "text": [
            "Using TensorFlow backend.\n"
          ],
          "name": "stderr"
        }
      ]
    },
    {
      "metadata": {
        "id": "8eubDgWJOmSq",
        "colab_type": "code",
        "colab": {
          "base_uri": "https://localhost:8080/",
          "height": 52
        },
        "outputId": "de63576f-19fd-45b9-9a0d-4c66460e2150"
      },
      "cell_type": "code",
      "source": [
        "(X_train, Y_train), (X_test, Y_test)= mnist.load_data()"
      ],
      "execution_count": 2,
      "outputs": [
        {
          "output_type": "stream",
          "text": [
            "Downloading data from https://s3.amazonaws.com/img-datasets/mnist.npz\n",
            "11493376/11490434 [==============================] - 0s 0us/step\n"
          ],
          "name": "stdout"
        }
      ]
    },
    {
      "metadata": {
        "id": "KJrERu_L8KNB",
        "colab_type": "code",
        "colab": {}
      },
      "cell_type": "code",
      "source": [
        "import numpy as np\n",
        "import pandas as pd\n",
        "import matplotlib.pyplot as plt"
      ],
      "execution_count": 0,
      "outputs": []
    },
    {
      "metadata": {
        "id": "iBLPo6En5Nln",
        "colab_type": "code",
        "colab": {}
      },
      "cell_type": "code",
      "source": [
        ""
      ],
      "execution_count": 0,
      "outputs": []
    },
    {
      "metadata": {
        "id": "rBfnzEoe8AdG",
        "colab_type": "code",
        "colab": {
          "base_uri": "https://localhost:8080/",
          "height": 34
        },
        "outputId": "1f8ffa71-8ef8-4d1b-b56e-606820e0e7ad"
      },
      "cell_type": "code",
      "source": [
        "Y_train.shape"
      ],
      "execution_count": 4,
      "outputs": [
        {
          "output_type": "execute_result",
          "data": {
            "text/plain": [
              "(60000,)"
            ]
          },
          "metadata": {
            "tags": []
          },
          "execution_count": 4
        }
      ]
    },
    {
      "metadata": {
        "id": "N20KzPpJ8C_K",
        "colab_type": "code",
        "colab": {
          "base_uri": "https://localhost:8080/",
          "height": 364
        },
        "outputId": "a8c2f1d2-5fd2-4cf4-c742-15883ffba278"
      },
      "cell_type": "code",
      "source": [
        "f, axes = plt.subplots(1, 2, sharey=True)\n",
        "f.set_figwidth(10)\n",
        "    \n",
        "axes[0].imshow(X_train[0], cmap='gray')\n",
        "axes[1].imshow(X_train[100], cmap='gray')\n",
        "\n"
      ],
      "execution_count": 5,
      "outputs": [
        {
          "output_type": "execute_result",
          "data": {
            "text/plain": [
              "<matplotlib.image.AxesImage at 0x7f4cac703550>"
            ]
          },
          "metadata": {
            "tags": []
          },
          "execution_count": 5
        },
        {
          "output_type": "display_data",
          "data": {
            "image/png": "[encoded data removed]",
            "text/plain": [
              "<matplotlib.figure.Figure at 0x7f4cacc01588>"
            ]
          },
          "metadata": {
            "tags": []
          }
        }
      ]
    },
    {
      "metadata": {
        "id": "VrijRsGNEn_7",
        "colab_type": "code",
        "colab": {}
      },
      "cell_type": "code",
      "source": [
        ""
      ],
      "execution_count": 0,
      "outputs": []
    },
    {
      "metadata": {
        "id": "8v7r8U-PTJ0o",
        "colab_type": "code",
        "colab": {}
      },
      "cell_type": "code",
      "source": [
        "X_train= X_train.reshape(60000, 28, 28, 1)\n",
        "X_test= X_test.reshape(10000, 28, 28, 1)\n",
        "Y_train= Y_train.reshape(60000, 1)\n",
        "Y_test= Y_test.reshape(10000, 1)\n",
        "X_train= X_train.astype('float32')\n",
        "X_test= X_test.astype('float32')"
      ],
      "execution_count": 0,
      "outputs": []
    },
    {
      "metadata": {
        "id": "5HE5QzPNK0dR",
        "colab_type": "code",
        "colab": {}
      },
      "cell_type": "code",
      "source": [
        "datagen= ImageDataGenerator(featurewise_center= True, featurewise_std_normalization= True, rotation_range= 7, height_shift_range= 1,  width_shift_range= 1, shear_range= 4, zoom_range= .3,\n",
        "                            validation_split= .1 )"
      ],
      "execution_count": 0,
      "outputs": []
    },
    {
      "metadata": {
        "id": "CgBuDpDE8BlY",
        "colab_type": "code",
        "colab": {
          "base_uri": "https://localhost:8080/",
          "height": 349
        },
        "outputId": "9048960e-efa6-44d2-ed74-050f2bcde745"
      },
      "cell_type": "code",
      "source": [
        "\n",
        "datagen.fit(X_train)\n",
        "for X_batch, Y_batch in datagen.flow(X_train, Y_train, batch_size= 10, shuffle= False):\n",
        "  for i in range(0, 9):\n",
        "    plt.subplot(330 + 1 + i)\n",
        "    plt.imshow(X_batch[i].reshape(28, 28), cmap=plt.get_cmap('gray'))\n",
        "\t  \n",
        "    \n",
        "  plt.show()\n",
        "  break"
      ],
      "execution_count": 10,
      "outputs": [
        {
          "output_type": "display_data",
          "data": {
            "image/png": "[encoded data removed]",
            "text/plain": [
              "<matplotlib.figure.Figure at 0x7f4ca9c2dba8>"
            ]
          },
          "metadata": {
            "tags": []
          }
        }
      ]
    },
    {
      "metadata": {
        "id": "e2z_VbX6_Cgf",
        "colab_type": "code",
        "colab": {
          "base_uri": "https://localhost:8080/",
          "height": 34
        },
        "outputId": "456f0d14-2bb9-411c-e5aa-900290653b80"
      },
      "cell_type": "code",
      "source": [
        "for X_batch, Y_batch in datagen.flow(X_train, Y_train, batch_size= 30000, shuffle= True):\n",
        "  X_train= np.concatenate((X_train, X_batch), axis= 0)\n",
        "  Y_train= np.concatenate((Y_train, Y_batch), axis= 0)\n",
        "  \n",
        "  \n",
        "  break\n",
        "  \n",
        "  \n",
        "print(X_train.shape)\n",
        "  \n",
        "#   X_train.append(X_batch)\n",
        "#   Y_train.append(Y_batch)\n",
        "  "
      ],
      "execution_count": 11,
      "outputs": [
        {
          "output_type": "stream",
          "text": [
            "(90000, 28, 28, 1)\n"
          ],
          "name": "stdout"
        }
      ]
    },
    {
      "metadata": {
        "id": "S4p8ZMb08wNK",
        "colab_type": "code",
        "colab": {
          "base_uri": "https://localhost:8080/",
          "height": 34
        },
        "outputId": "9833b63e-b5e1-4ab0-892c-65963e9a969f"
      },
      "cell_type": "code",
      "source": [
        "print(Y_train.shape)"
      ],
      "execution_count": 12,
      "outputs": [
        {
          "output_type": "stream",
          "text": [
            "(90000, 1)\n"
          ],
          "name": "stdout"
        }
      ]
    },
    {
      "metadata": {
        "id": "0QXJStDQ_c8x",
        "colab_type": "code",
        "colab": {}
      },
      "cell_type": "code",
      "source": [
        " "
      ],
      "execution_count": 0,
      "outputs": []
    },
    {
      "metadata": {
        "id": "WF42nayGFjJL",
        "colab_type": "code",
        "colab": {}
      },
      "cell_type": "code",
      "source": [
        ""
      ],
      "execution_count": 0,
      "outputs": []
    },
    {
      "metadata": {
        "id": "tMWUmfevG76s",
        "colab_type": "code",
        "colab": {}
      },
      "cell_type": "code",
      "source": [
        ""
      ],
      "execution_count": 0,
      "outputs": []
    },
    {
      "metadata": {
        "id": "txBYQlM2Wip2",
        "colab_type": "code",
        "colab": {}
      },
      "cell_type": "code",
      "source": [
        "classes, array= np.unique(Y_train, return_inverse= True)\n",
        "Y_train_ohe= keras.utils.to_categorical(array, len(classes))\n",
        "\n",
        "classes, array= np.unique(Y_test, return_inverse= True)\n",
        "Y_test_ohe= keras.utils.to_categorical(array, len(classes))\n",
        "\n",
        "X_train= X_train/255\n",
        "X_test= X_test/255\n"
      ],
      "execution_count": 0,
      "outputs": []
    },
    {
      "metadata": {
        "id": "O6_6_MNP8xGV",
        "colab_type": "code",
        "colab": {}
      },
      "cell_type": "code",
      "source": [
        "from keras.models import Sequential\n",
        "from keras.layers import Conv2D, Flatten, Dropout, Dense, MaxPool2D"
      ],
      "execution_count": 0,
      "outputs": []
    },
    {
      "metadata": {
        "id": "ey75vat_A11i",
        "colab_type": "code",
        "colab": {}
      },
      "cell_type": "code",
      "source": [
        "model= Sequential()\n",
        "\n",
        "model.add(Conv2D(50, kernel_size= 3, padding= 'same', activation= 'relu', input_shape= (28, 28, 1)))    \n",
        "model.add(MaxPool2D(3, strides= 1, padding= 'same'))\n",
        "model.add(Conv2D(40, kernel_size= 3, padding= 'valid', activation= 'relu'))    \n",
        "model.add(MaxPool2D(3, strides= 1, padding= 'valid'))\n",
        "\n",
        "model.add(Flatten())\n",
        "model.add(Dense(128, activation= 'relu'))\n",
        "model.add(Dropout(0.5))\n",
        "model.add(Dense(10, activation= 'softmax'))"
      ],
      "execution_count": 0,
      "outputs": []
    },
    {
      "metadata": {
        "id": "jctUh5c6MQSl",
        "colab_type": "code",
        "colab": {}
      },
      "cell_type": "code",
      "source": [
        "model.compile(loss= 'categorical_crossentropy', optimizer= keras.optimizers.adam(lr=.0007, decay=1e-6), metrics= ['accuracy'])"
      ],
      "execution_count": 0,
      "outputs": []
    },
    {
      "metadata": {
        "id": "oQmoAW9bRzlF",
        "colab_type": "code",
        "colab": {
          "base_uri": "https://localhost:8080/",
          "height": 1094
        },
        "outputId": "626ba54d-389b-4f90-c200-36e6efcb8728"
      },
      "cell_type": "code",
      "source": [
        "model.fit(X_train, Y_train_ohe, epochs= 30, batch_size= 1000, validation_split= .1, shuffle= True)"
      ],
      "execution_count": 22,
      "outputs": [
        {
          "output_type": "stream",
          "text": [
            "Train on 81000 samples, validate on 9000 samples\n",
            "Epoch 1/30\n",
            "81000/81000 [==============================] - 12s 143us/step - loss: 0.8721 - acc: 0.7398 - val_loss: 2.0128 - val_acc: 0.6026\n",
            "Epoch 2/30\n",
            "81000/81000 [==============================] - 11s 130us/step - loss: 0.5316 - acc: 0.8714 - val_loss: 1.2420 - val_acc: 0.7264\n",
            "Epoch 3/30\n",
            "81000/81000 [==============================] - 11s 130us/step - loss: 0.3300 - acc: 0.9088 - val_loss: 0.6372 - val_acc: 0.8419\n",
            "Epoch 4/30\n",
            "81000/81000 [==============================] - 11s 130us/step - loss: 0.2310 - acc: 0.9343 - val_loss: 0.4507 - val_acc: 0.8792\n",
            "Epoch 5/30\n",
            "81000/81000 [==============================] - 11s 130us/step - loss: 0.1880 - acc: 0.9459 - val_loss: 0.3781 - val_acc: 0.9040\n",
            "Epoch 6/30\n",
            "81000/81000 [==============================] - 11s 130us/step - loss: 0.1629 - acc: 0.9526 - val_loss: 0.3257 - val_acc: 0.9124\n",
            "Epoch 7/30\n",
            "81000/81000 [==============================] - 11s 130us/step - loss: 0.1446 - acc: 0.9586 - val_loss: 0.2775 - val_acc: 0.9276\n",
            "Epoch 8/30\n",
            "81000/81000 [==============================] - 11s 131us/step - loss: 0.1257 - acc: 0.9635 - val_loss: 0.2575 - val_acc: 0.9314\n",
            "Epoch 9/30\n",
            "81000/81000 [==============================] - 11s 130us/step - loss: 0.1137 - acc: 0.9673 - val_loss: 0.2181 - val_acc: 0.9386\n",
            "Epoch 10/30\n",
            "81000/81000 [==============================] - 11s 130us/step - loss: 0.1027 - acc: 0.9697 - val_loss: 0.1919 - val_acc: 0.9463\n",
            "Epoch 11/30\n",
            "81000/81000 [==============================] - 11s 131us/step - loss: 0.0961 - acc: 0.9715 - val_loss: 0.1737 - val_acc: 0.9510\n",
            "Epoch 12/30\n",
            "81000/81000 [==============================] - 11s 130us/step - loss: 0.0876 - acc: 0.9745 - val_loss: 0.1677 - val_acc: 0.9542\n",
            "Epoch 13/30\n",
            "81000/81000 [==============================] - 11s 130us/step - loss: 0.0817 - acc: 0.9756 - val_loss: 0.1609 - val_acc: 0.9534\n",
            "Epoch 14/30\n",
            "81000/81000 [==============================] - 11s 130us/step - loss: 0.0765 - acc: 0.9774 - val_loss: 0.1400 - val_acc: 0.9574\n",
            "Epoch 15/30\n",
            "81000/81000 [==============================] - 11s 130us/step - loss: 0.0714 - acc: 0.9785 - val_loss: 0.1380 - val_acc: 0.9598\n",
            "Epoch 16/30\n",
            "81000/81000 [==============================] - 11s 130us/step - loss: 0.0681 - acc: 0.9795 - val_loss: 0.1293 - val_acc: 0.9624\n",
            "Epoch 17/30\n",
            "81000/81000 [==============================] - 11s 130us/step - loss: 0.0628 - acc: 0.9813 - val_loss: 0.1252 - val_acc: 0.9626\n",
            "Epoch 18/30\n",
            "81000/81000 [==============================] - 11s 130us/step - loss: 0.0611 - acc: 0.9818 - val_loss: 0.1164 - val_acc: 0.9660\n",
            "Epoch 19/30\n",
            "81000/81000 [==============================] - 10s 130us/step - loss: 0.0573 - acc: 0.9830 - val_loss: 0.1076 - val_acc: 0.9683\n",
            "Epoch 20/30\n",
            "81000/81000 [==============================] - 11s 130us/step - loss: 0.0549 - acc: 0.9831 - val_loss: 0.1121 - val_acc: 0.9671\n",
            "Epoch 21/30\n",
            "81000/81000 [==============================] - 11s 130us/step - loss: 0.0521 - acc: 0.9844 - val_loss: 0.1123 - val_acc: 0.9671\n",
            "Epoch 22/30\n",
            "81000/81000 [==============================] - 11s 130us/step - loss: 0.0521 - acc: 0.9844 - val_loss: 0.1001 - val_acc: 0.9700\n",
            "Epoch 23/30\n",
            "81000/81000 [==============================] - 11s 130us/step - loss: 0.0514 - acc: 0.9842 - val_loss: 0.0982 - val_acc: 0.9717\n",
            "Epoch 24/30\n",
            "81000/81000 [==============================] - 11s 130us/step - loss: 0.0467 - acc: 0.9855 - val_loss: 0.0963 - val_acc: 0.9716\n",
            "Epoch 25/30\n",
            "81000/81000 [==============================] - 10s 130us/step - loss: 0.0468 - acc: 0.9852 - val_loss: 0.0949 - val_acc: 0.9726\n",
            "Epoch 26/30\n",
            "81000/81000 [==============================] - 11s 130us/step - loss: 0.0462 - acc: 0.9859 - val_loss: 0.0922 - val_acc: 0.9740\n",
            "Epoch 27/30\n",
            "81000/81000 [==============================] - 10s 129us/step - loss: 0.0441 - acc: 0.9864 - val_loss: 0.0904 - val_acc: 0.9739\n",
            "Epoch 28/30\n",
            "81000/81000 [==============================] - 11s 130us/step - loss: 0.0402 - acc: 0.9877 - val_loss: 0.0948 - val_acc: 0.9714\n",
            "Epoch 29/30\n",
            "81000/81000 [==============================] - 11s 130us/step - loss: 0.0393 - acc: 0.9881 - val_loss: 0.0849 - val_acc: 0.9744\n",
            "Epoch 30/30\n",
            "81000/81000 [==============================] - 10s 129us/step - loss: 0.0424 - acc: 0.9865 - val_loss: 0.0837 - val_acc: 0.9763\n"
          ],
          "name": "stdout"
        },
        {
          "output_type": "execute_result",
          "data": {
            "text/plain": [
              "<keras.callbacks.History at 0x7f4ca365ada0>"
            ]
          },
          "metadata": {
            "tags": []
          },
          "execution_count": 22
        }
      ]
    },
    {
      "metadata": {
        "id": "mG58C7fCSXzb",
        "colab_type": "code",
        "colab": {
          "base_uri": "https://localhost:8080/",
          "height": 52
        },
        "outputId": "2d1087ea-c07c-43cc-c8ce-860bb3320c9a"
      },
      "cell_type": "code",
      "source": [
        "model.evaluate(X_test, Y_test_ohe)"
      ],
      "execution_count": 23,
      "outputs": [
        {
          "output_type": "stream",
          "text": [
            "10000/10000 [==============================] - 1s 147us/step\n"
          ],
          "name": "stdout"
        },
        {
          "output_type": "execute_result",
          "data": {
            "text/plain": [
              "[0.03264528340158115, 0.9934]"
            ]
          },
          "metadata": {
            "tags": []
          },
          "execution_count": 23
        }
      ]
    },
    {
      "metadata": {
        "id": "7YBdQaL4t2Bl",
        "colab_type": "code",
        "colab": {}
      },
      "cell_type": "code",
      "source": [
        ""
      ],
      "execution_count": 0,
      "outputs": []
    }
  ]
}